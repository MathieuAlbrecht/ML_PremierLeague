{
 "cells": [
  {
   "cell_type": "code",
   "execution_count": null,
   "metadata": {
    "vscode": {
     "languageId": "plaintext"
    }
   },
   "outputs": [],
   "source": [
    "2.1 Ich möchte Vorhersagen für das Feld FullTimeResult treffen\n"
   ]
  },
  {
   "cell_type": "code",
   "execution_count": null,
   "metadata": {
    "vscode": {
     "languageId": "plaintext"
    }
   },
   "outputs": [],
   "source": [
    "2.2 FullTimeHomeTeamGoals: Mittelwert=1,533233757, \n",
    "FullTimeAwayTeamGoals: Mittelwert=1,164135756, \n",
    "FullTimeResult: Modus=\"H\"->5517, HomeTeamPoints:Mittelwert=1,627914696, \n",
    "AwayTeamPoints: Mittelwert=1,117583603 "
   ]
  },
  {
   "cell_type": "markdown",
   "metadata": {},
   "source": [
    "2.3 Das Diagramm habe ich im Readme als Foto hinzugefügt, auf dem Diagramm kann man erkennen wie oft das Heim oder Ausswärtsteam gewonnen hat und wie viele unentschieden es seit Anfang des Datensatzes gab. "
   ]
  },
  {
   "cell_type": "code",
   "execution_count": null,
   "metadata": {
    "vscode": {
     "languageId": "plaintext"
    }
   },
   "outputs": [],
   "source": [
    "2.4 Ich habe die Daten von FullTimeHome/AwayGoals und Home/AwayTeamPoints \n",
    "auf 0-100 skaliert um sie vergleichen zu können."
   ]
  }
 ],
 "metadata": {
  "language_info": {
   "name": "python"
  }
 },
 "nbformat": 4,
 "nbformat_minor": 2
}
